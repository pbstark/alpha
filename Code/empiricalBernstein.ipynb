{
 "cells": [
  {
   "cell_type": "code",
   "execution_count": 1,
   "id": "32974ab2",
   "metadata": {},
   "outputs": [],
   "source": [
    "import math\n",
    "import scipy as sp\n",
    "import matplotlib.pyplot as plt\n",
    "from scipy.stats import bernoulli, uniform, chi2\n",
    "import numpy as np\n",
    "from scipy.stats.mstats import gmean\n",
    "from numpy.testing import assert_allclose\n",
    "from utils import sprt_mart, eb_selector, psi_E, v_i\n",
    "np.random.seed(123456789)"
   ]
  },
  {
   "cell_type": "code",
   "execution_count": 2,
   "id": "366a6cef",
   "metadata": {},
   "outputs": [],
   "source": [
    "stratum_1 = np.random.normal(loc = 0.5, scale = 0.05, size = 200)\n",
    "stratum_2 = np.random.normal(loc = 0.6, scale = 0.05, size = 100)\n",
    "strata = [stratum_1, stratum_2]\n",
    "lam = np.array([0.5])"
   ]
  },
  {
   "cell_type": "code",
   "execution_count": 8,
   "id": "d67eb45c",
   "metadata": {},
   "outputs": [],
   "source": [
    "N = np.array([len(x) for x in strata])\n",
    "K = len(strata)\n",
    "w = N/np.sum(N)\n",
    "gamma = 1\n",
    "marts = [np.ones(x) for x in N]\n",
    "a = [(gamma/(np.arange(N[k]) + 1)) * np.cumsum(lam*strata[k] - psi_E(lam)*v_i(strata[k])) + (1-gamma)*w[k] for k in np.arange(K)]\n",
    "running_n = np.zeros(K)\n",
    "running_a = np.ones(K)\n",
    "#record which strata are pulled from\n",
    "selected_strata = np.zeros(np.sum(N))\n",
    "mart = np.ones(np.sum(N))\n",
    "i = 0\n",
    "while any(running_n < (N-1)):\n",
    "    next_stratum = eb_selector(running_a = running_a, running_n = running_n, lam = lam, N = N, gamma = gamma)\n",
    "    selected_strata[i] = next_stratum\n",
    "    running_n[next_stratum] += 1\n",
    "    running_a[next_stratum] = a[next_stratum][int(running_n[next_stratum])]\n",
    "    i += 1\n",
    "#TODO: need to define the martingale given selected_strata, then optimize over the null using greedy algorithm"
   ]
  },
  {
   "cell_type": "code",
   "execution_count": null,
   "id": "deb436a7",
   "metadata": {},
   "outputs": [],
   "source": []
  }
 ],
 "metadata": {
  "kernelspec": {
   "display_name": "Python 3 (ipykernel)",
   "language": "python",
   "name": "python3"
  },
  "language_info": {
   "codemirror_mode": {
    "name": "ipython",
    "version": 3
   },
   "file_extension": ".py",
   "mimetype": "text/x-python",
   "name": "python",
   "nbconvert_exporter": "python",
   "pygments_lexer": "ipython3",
   "version": "3.8.9"
  }
 },
 "nbformat": 4,
 "nbformat_minor": 5
}
