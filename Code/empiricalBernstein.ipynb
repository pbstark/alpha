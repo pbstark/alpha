{
 "cells": [
  {
   "cell_type": "code",
   "execution_count": 1,
   "id": "aba77e62",
   "metadata": {},
   "outputs": [],
   "source": [
    "import math\n",
    "import scipy as sp\n",
    "import matplotlib.pyplot as plt\n",
    "from scipy.stats import bernoulli, uniform, chi2\n",
    "import numpy as np\n",
    "from scipy.stats.mstats import gmean\n",
    "from numpy.testing import assert_allclose\n",
    "from utils import sprt_mart, get_eb_p_value, eb_selector, psi_E, v_i, pm_lambda\n",
    "import pypoman\n",
    "np.random.seed(123456789)"
   ]
  },
  {
   "cell_type": "code",
   "execution_count": 15,
   "id": "5848e817",
   "metadata": {},
   "outputs": [
    {
     "data": {
      "text/plain": [
       "0.5333333333333333"
      ]
     },
     "execution_count": 15,
     "metadata": {},
     "output_type": "execute_result"
    }
   ],
   "source": [
    "stratum_1_mean = 0.5\n",
    "stratum_2_mean = 0.8\n",
    "stratum_3_mean = 0.3\n",
    "stratum_1 = np.ones(500) * stratum_1_mean\n",
    "stratum_2 = np.ones(500) * stratum_2_mean\n",
    "stratum_3 = np.ones(500) * stratum_3_mean\n",
    "strata = [stratum_1, stratum_2, stratum_3]\n",
    "np.mean(np.concatenate(strata))"
   ]
  },
  {
   "cell_type": "code",
   "execution_count": 3,
   "id": "ebe7108f",
   "metadata": {},
   "outputs": [
    {
     "name": "stderr",
     "output_type": "stream",
     "text": [
      "/Users/Jake/Dropbox/RLAs/alpha/Code/utils.py:528: RuntimeWarning: divide by zero encountered in true_divide\n",
      "  lam_pm = np.sqrt(2 * np.log(1/alpha) / (lag_sigma_hat**2 * j * np.log(1 + j)))\n"
     ]
    }
   ],
   "source": [
    "log_mart, p_value, selected_strata, eta_star_mat = get_eb_p_value(strata = strata, gamma = 1, fixed_strategy = True)"
   ]
  },
  {
   "cell_type": "code",
   "execution_count": 5,
   "id": "d1d8edb7",
   "metadata": {},
   "outputs": [],
   "source": [
    "log_marts, p_value, minimizing_etas, min_index, stratum_counts = get_eb_p_value(strata = strata, fixed_strategy = False)"
   ]
  },
  {
   "cell_type": "code",
   "execution_count": 6,
   "id": "57fd5dbd",
   "metadata": {},
   "outputs": [
    {
     "data": {
      "text/plain": [
       "array([[0.5, 1. , 0. ],\n",
       "       [0. , 1. , 0.5],\n",
       "       [1. , 0.5, 0. ],\n",
       "       [1. , 0. , 0.5],\n",
       "       [0.5, 0. , 1. ],\n",
       "       [0. , 0.5, 1. ]])"
      ]
     },
     "execution_count": 6,
     "metadata": {},
     "output_type": "execute_result"
    }
   ],
   "source": [
    "#enumerated minimizing values of eta \n",
    "minimizing_etas"
   ]
  },
  {
   "cell_type": "code",
   "execution_count": 9,
   "id": "bb5bbfac",
   "metadata": {},
   "outputs": [
    {
     "data": {
      "text/plain": [
       "[<matplotlib.lines.Line2D at 0x7f7bd0166100>]"
      ]
     },
     "execution_count": 9,
     "metadata": {},
     "output_type": "execute_result"
    },
    {
     "data": {
      "image/png": "[encoded data removed]",
      "text/plain": [
       "<Figure size 432x288 with 1 Axes>"
      ]
     },
     "metadata": {
      "needs_background": "light"
     },
     "output_type": "display_data"
    }
   ],
   "source": [
    "#which eta was selected at each time \n",
    "#[1,0.5,0] dominates, which is interesting b/c not the projection onto null means\n",
    "plt.plot(min_index)"
   ]
  },
  {
   "cell_type": "code",
   "execution_count": 19,
   "id": "5bd50416",
   "metadata": {},
   "outputs": [
    {
     "data": {
      "text/plain": [
       "array([1. , 0.5, 0. ])"
      ]
     },
     "execution_count": 19,
     "metadata": {},
     "output_type": "execute_result"
    }
   ],
   "source": [
    "#the value of the null mean most selected\n",
    "minimizing_etas[2,]"
   ]
  },
  {
   "cell_type": "code",
   "execution_count": 18,
   "id": "a0477442",
   "metadata": {},
   "outputs": [
    {
     "data": {
      "text/plain": [
       "<matplotlib.legend.Legend at 0x7fe0d9016ee0>"
      ]
     },
     "execution_count": 18,
     "metadata": {},
     "output_type": "execute_result"
    },
    {
     "data": {
      "image/png": "[encoded data removed]",
      "text/plain": [
       "<Figure size 432x288 with 1 Axes>"
      ]
     },
     "metadata": {
      "needs_background": "light"
     },
     "output_type": "display_data"
    }
   ],
   "source": [
    "#stratum selection counts at each time for null 2, which was generally the minimizer\n",
    "plt.plot(stratum_counts[:,0,2], label = \"stratum 1; mean = \" + str(stratum_1_mean))\n",
    "plt.plot(stratum_counts[:,1,2], label = \"stratum 2; mean = \" + str(stratum_2_mean))\n",
    "plt.plot(stratum_counts[:,2,2], label = \"stratum 3; mean = \" + str(stratum_3_mean))\n",
    "plt.legend()"
   ]
  },
  {
   "cell_type": "code",
   "execution_count": 10,
   "id": "7631b1b4",
   "metadata": {},
   "outputs": [
    {
     "data": {
      "text/plain": [
       "[<matplotlib.lines.Line2D at 0x7f7c1370aeb0>]"
      ]
     },
     "execution_count": 10,
     "metadata": {},
     "output_type": "execute_result"
    },
    {
     "data": {
      "image/png": "[encoded data removed]",
      "text/plain": [
       "<Figure size 432x288 with 1 Axes>"
      ]
     },
     "metadata": {
      "needs_background": "light"
     },
     "output_type": "display_data"
    }
   ],
   "source": [
    "#p_value\n",
    "plt.plot(p_value)"
   ]
  },
  {
   "cell_type": "code",
   "execution_count": 12,
   "id": "1fb2e48c",
   "metadata": {},
   "outputs": [],
   "source": [
    "gamma = 1\n",
    "run_in = 10\n",
    "lam = np.array([.5, .5, .5])\n",
    "#lam = None\n",
    "N = np.array([len(x) for x in strata])\n",
    "K = len(strata)\n",
    "w = N/np.sum(N)\n",
    "u = 1\n",
    "marts = [np.ones(x) for x in N]\n",
    "if lam is None:\n",
    "    lam = [pm_lambda(stratum) for stratum in strata]\n",
    "else:\n",
    "    lam = [np.repeat(lam[k], N[k]) for k in np.arange(K)]\n",
    "a = [np.cumsum(lam[k]*strata[k] - psi_E(lam[k]) * v_i(strata[k])) for k in np.arange(K)]\n",
    "A = np.concatenate((np.expand_dims(w, axis = 0), np.expand_dims(-w, axis = 0), -np.identity(K), np.identity(K)))\n",
    "b = np.concatenate((1/2 * np.ones(2), np.zeros(K), u*np.ones(K)))\n",
    "vertices = np.stack(pypoman.compute_polytope_vertices(A, b), axis = 0)\n",
    "minimizing_vertices = vertices[np.matmul(vertices, w) == 1/2,]\n",
    "log_marts = np.zeros((np.sum(N), minimizing_vertices.shape[0]))\n",
    "for v in np.arange(minimizing_vertices.shape[0]):\n",
    "    eta = minimizing_vertices[v,]\n",
    "    running_n = np.zeros(K)\n",
    "    running_a = np.zeros(K)\n",
    "    running_b = np.zeros(K)\n",
    "    running_lam = np.array([x[0] for x in lam])\n",
    "    i = 0\n",
    "    while any((running_n < N - 1) & (eta != u)):\n",
    "        next_stratum = eb_selector(running_a = running_a, running_n = running_n, running_b = running_b, N = N, u = u, eta = eta)\n",
    "        running_n[next_stratum] += 1\n",
    "        running_lam[next_stratum] = lam[next_stratum][int(running_n[next_stratum])]\n",
    "        running_a[next_stratum] = a[next_stratum][int(running_n[next_stratum])]\n",
    "        running_b[next_stratum] -= running_lam[next_stratum]\n",
    "        log_marts[i,v] = np.sum(running_a) + np.dot(running_b, eta)\n",
    "        i += 1\n",
    "    #carry forward the last non-zero value of the martingale\n",
    "    log_marts[i:,v] = log_marts[i-1,v]\n",
    "min_log_mart = log_marts.min(axis = 1)\n",
    "min_mart = np.exp(min_log_mart)\n",
    "p_value = 1/np.maximum(1, min_mart)"
   ]
  },
  {
   "cell_type": "code",
   "execution_count": 13,
   "id": "1cf779ad",
   "metadata": {},
   "outputs": [
    {
     "data": {
      "text/plain": [
       "[<matplotlib.lines.Line2D at 0x7feef8488190>]"
      ]
     },
     "execution_count": 13,
     "metadata": {},
     "output_type": "execute_result"
    },
    {
     "data": {
      "image/png": "[encoded data removed]",
      "text/plain": [
       "<Figure size 432x288 with 1 Axes>"
      ]
     },
     "metadata": {
      "needs_background": "light"
     },
     "output_type": "display_data"
    }
   ],
   "source": [
    "plt.plot(min_log_mart)"
   ]
  }
 ],
 "metadata": {
  "kernelspec": {
   "display_name": "Python 3 (ipykernel)",
   "language": "python",
   "name": "python3"
  },
  "language_info": {
   "codemirror_mode": {
    "name": "ipython",
    "version": 3
   },
   "file_extension": ".py",
   "mimetype": "text/x-python",
   "name": "python",
   "nbconvert_exporter": "python",
   "pygments_lexer": "ipython3",
   "version": "3.9.12"
  }
 },
 "nbformat": 4,
 "nbformat_minor": 5
}
