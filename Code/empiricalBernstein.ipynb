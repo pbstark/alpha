{
 "cells": [
  {
   "cell_type": "code",
   "execution_count": 1,
   "id": "aba77e62",
   "metadata": {},
   "outputs": [],
   "source": [
    "import math\n",
    "import scipy as sp\n",
    "import matplotlib.pyplot as plt\n",
    "from scipy.stats import bernoulli, uniform, chi2\n",
    "import numpy as np\n",
    "from scipy.stats.mstats import gmean\n",
    "from numpy.testing import assert_allclose\n",
    "from utils import sprt_mart, get_eb_p_value, eb_selector, psi_E, v_i, pm_lambda\n",
    "import pypoman\n",
    "np.random.seed(123456789)"
   ]
  },
  {
   "cell_type": "code",
   "execution_count": 2,
   "id": "5848e817",
   "metadata": {},
   "outputs": [
    {
     "data": {
      "text/plain": [
       "0.5333333333333333"
      ]
     },
     "execution_count": 2,
     "metadata": {},
     "output_type": "execute_result"
    }
   ],
   "source": [
    "#stratum_1 = np.maximum(0, np.minimum(np.random.normal(loc = 0.5, scale = 0.05, size = 500), 1))\n",
    "#stratum_2 = np.maximum(0, np.minimum(np.random.normal(loc = 0.8, scale = 0.05, size = 500), 1))\n",
    "#stratum_3 = np.maximum(0, np.minimum(np.random.normal(loc = 0.4, scale = 0.05, size = 50), 1))\n",
    "stratum_1 = np.ones(500) * 0.5\n",
    "stratum_2 = np.ones(500) * 0.8\n",
    "stratum_3 = np.ones(500) * 0.3\n",
    "strata = [stratum_1, stratum_2, stratum_3]\n",
    "np.mean(np.concatenate(strata))"
   ]
  },
  {
   "cell_type": "code",
   "execution_count": 3,
   "id": "ebe7108f",
   "metadata": {},
   "outputs": [
    {
     "name": "stderr",
     "output_type": "stream",
     "text": [
      "/Users/Jake/Dropbox/RLAs/alpha/Code/utils.py:528: RuntimeWarning: divide by zero encountered in true_divide\n",
      "  lam_pm = np.sqrt(2 * np.log(1/alpha) / (lag_sigma_hat**2 * j * np.log(1 + j)))\n"
     ]
    }
   ],
   "source": [
    "log_mart, p_value, selected_strata, eta_star_mat = get_eb_p_value(strata = strata, gamma = 1, fixed_strategy = True)\n"
   ]
  },
  {
   "cell_type": "code",
   "execution_count": 4,
   "id": "d1d8edb7",
   "metadata": {},
   "outputs": [
    {
     "ename": "UnboundLocalError",
     "evalue": "local variable 'mart' referenced before assignment",
     "output_type": "error",
     "traceback": [
      "\u001b[0;31m---------------------------------------------------------------------------\u001b[0m",
      "\u001b[0;31mUnboundLocalError\u001b[0m                         Traceback (most recent call last)",
      "Input \u001b[0;32mIn [4]\u001b[0m, in \u001b[0;36m<cell line: 1>\u001b[0;34m()\u001b[0m\n\u001b[0;32m----> 1\u001b[0m log_marts, p_value \u001b[38;5;241m=\u001b[39m \u001b[43mget_eb_p_value\u001b[49m\u001b[43m(\u001b[49m\u001b[43mstrata\u001b[49m\u001b[43m \u001b[49m\u001b[38;5;241;43m=\u001b[39;49m\u001b[43m \u001b[49m\u001b[43mstrata\u001b[49m\u001b[43m,\u001b[49m\u001b[43m \u001b[49m\u001b[43mfixed_strategy\u001b[49m\u001b[43m \u001b[49m\u001b[38;5;241;43m=\u001b[39;49m\u001b[43m \u001b[49m\u001b[38;5;28;43;01mFalse\u001b[39;49;00m\u001b[43m)\u001b[49m\n",
      "File \u001b[0;32m~/Dropbox/RLAs/alpha/Code/utils.py:617\u001b[0m, in \u001b[0;36mget_eb_p_value\u001b[0;34m(strata, lam, gamma, run_in, fixed_strategy)\u001b[0m\n\u001b[1;32m    615\u001b[0m min_log_mart \u001b[38;5;241m=\u001b[39m log_marts\u001b[38;5;241m.\u001b[39mmin(axis \u001b[38;5;241m=\u001b[39m \u001b[38;5;241m1\u001b[39m)\n\u001b[1;32m    616\u001b[0m min_mart \u001b[38;5;241m=\u001b[39m np\u001b[38;5;241m.\u001b[39mexp(min_log_mart)\n\u001b[0;32m--> 617\u001b[0m p_value \u001b[38;5;241m=\u001b[39m \u001b[38;5;241m1\u001b[39m\u001b[38;5;241m/\u001b[39mnp\u001b[38;5;241m.\u001b[39mmaximum(\u001b[38;5;241m1\u001b[39m, \u001b[43mmart\u001b[49m)\n\u001b[1;32m    618\u001b[0m \u001b[38;5;28;01mreturn\u001b[39;00m log_marts, p_value\n",
      "\u001b[0;31mUnboundLocalError\u001b[0m: local variable 'mart' referenced before assignment"
     ]
    }
   ],
   "source": [
    "log_marts, p_value = get_eb_p_value(strata = strata, fixed_strategy = False)"
   ]
  },
  {
   "cell_type": "code",
   "execution_count": 6,
   "id": "7631b1b4",
   "metadata": {},
   "outputs": [
    {
     "data": {
      "text/plain": [
       "[<matplotlib.lines.Line2D at 0x7fc033baa700>]"
      ]
     },
     "execution_count": 6,
     "metadata": {},
     "output_type": "execute_result"
    },
    {
     "data": {
      "image/png": "[encoded data removed]",
      "text/plain": [
       "<Figure size 432x288 with 1 Axes>"
      ]
     },
     "metadata": {
      "needs_background": "light"
     },
     "output_type": "display_data"
    }
   ],
   "source": [
    "plt.plot(log_mart)"
   ]
  },
  {
   "cell_type": "code",
   "execution_count": 4,
   "id": "1fb2e48c",
   "metadata": {},
   "outputs": [],
   "source": [
    "gamma = 1\n",
    "run_in = 10\n",
    "lam = np.array([.5, .5, .5])\n",
    "#lam = None\n",
    "N = np.array([len(x) for x in strata])\n",
    "K = len(strata)\n",
    "w = N/np.sum(N)\n",
    "u = 1\n",
    "marts = [np.ones(x) for x in N]\n",
    "if lam is None:\n",
    "    lam = [pm_lambda(stratum) for stratum in strata]\n",
    "else:\n",
    "    lam = [np.repeat(lam[k], N[k]) for k in np.arange(K)]\n",
    "a = [np.cumsum(lam[k]*strata[k] - psi_E(lam[k]) * v_i(strata[k])) for k in np.arange(K)]\n",
    "A = np.concatenate((np.expand_dims(w, axis = 0), np.expand_dims(-w, axis = 0), -np.identity(K), np.identity(K)))\n",
    "b = np.concatenate((1/2 * np.ones(2), np.zeros(K), u*np.ones(K)))\n",
    "vertices = np.stack(pypoman.compute_polytope_vertices(A, b), axis = 0)\n",
    "minimizing_vertices = vertices[np.matmul(vertices, w) == 1/2,]\n",
    "log_marts = np.zeros((np.sum(N), minimizing_vertices.shape[0]))\n",
    "for v in np.arange(minimizing_vertices.shape[0]):\n",
    "    eta = minimizing_vertices[v,]\n",
    "    running_n = np.zeros(K)\n",
    "    running_a = np.zeros(K)\n",
    "    running_b = np.zeros(K)\n",
    "    running_lam = np.array([x[0] for x in lam])\n",
    "    i = 0\n",
    "    while any((running_n < N - 1) & (eta != u)):\n",
    "        next_stratum = eb_selector(running_a = running_a, running_n = running_n, running_b = running_b, N = N, eta = eta)\n",
    "        running_n[next_stratum] += 1\n",
    "        running_lam[next_stratum] = lam[next_stratum][int(running_n[next_stratum])]\n",
    "        running_a[next_stratum] = a[next_stratum][int(running_n[next_stratum])]\n",
    "        running_b[next_stratum] -= running_lam[next_stratum]\n",
    "        log_marts[i,v] = np.sum(running_a) + np.dot(running_b, eta)\n",
    "        i += 1\n",
    "min_log_mart = log_marts.min(axis = 1)\n",
    "min_mart = np.exp(min_log_mart)\n",
    "p_value = 1/np.maximum(1, min_mart)"
   ]
  },
  {
   "cell_type": "code",
   "execution_count": 8,
   "id": "1cf779ad",
   "metadata": {},
   "outputs": [
    {
     "data": {
      "text/plain": [
       "[<matplotlib.lines.Line2D at 0x7fb99b6477f0>]"
      ]
     },
     "execution_count": 8,
     "metadata": {},
     "output_type": "execute_result"
    },
    {
     "data": {
      "image/png": "[encoded data removed]",
      "text/plain": [
       "<Figure size 432x288 with 1 Axes>"
      ]
     },
     "metadata": {
      "needs_background": "light"
     },
     "output_type": "display_data"
    }
   ],
   "source": [
    "plt.plot(min_log_mart)"
   ]
  },
  {
   "cell_type": "code",
   "execution_count": 10,
   "id": "f144e2ca",
   "metadata": {},
   "outputs": [],
   "source": [
    "K = len(strata)\n",
    "eta_star = np.zeros((2 ** (K-1) , K))\n",
    "A = np.concatenate((np.expand_dims(w, axis = 0), np.expand_dims(-w, axis = 0), -np.identity(K), np.identity(K)))\n",
    "b = np.concatenate((1/2 * np.ones(2), np.zeros(K), u*np.ones(K)))"
   ]
  },
  {
   "cell_type": "code",
   "execution_count": 11,
   "id": "6b1ba0c9",
   "metadata": {},
   "outputs": [],
   "source": [
    "A = np.concatenate((np.expand_dims(w, axis = 0), -np.identity(K), np.identity(K)))\n",
    "b = np.concatenate((1/2 * np.ones(1), np.zeros(K), u*np.ones(K)))"
   ]
  },
  {
   "cell_type": "code",
   "execution_count": 12,
   "id": "f71192b0",
   "metadata": {},
   "outputs": [],
   "source": [
    "vertices = np.stack(pypoman.compute_polytope_vertices(A, b), axis = 0)"
   ]
  },
  {
   "cell_type": "code",
   "execution_count": 13,
   "id": "b30e3016",
   "metadata": {},
   "outputs": [
    {
     "data": {
      "text/plain": [
       "array([[0.5, 1. , 0. ],\n",
       "       [0. , 1. , 0.5],\n",
       "       [0. , 1. , 0. ],\n",
       "       [0. , 0. , 0. ],\n",
       "       [1. , 0. , 0. ],\n",
       "       [1. , 0.5, 0. ],\n",
       "       [1. , 0. , 0.5],\n",
       "       [0. , 0. , 1. ],\n",
       "       [0.5, 0. , 1. ],\n",
       "       [0. , 0.5, 1. ]])"
      ]
     },
     "execution_count": 13,
     "metadata": {},
     "output_type": "execute_result"
    }
   ],
   "source": [
    "vertices"
   ]
  },
  {
   "cell_type": "code",
   "execution_count": 14,
   "id": "93db1e7a",
   "metadata": {},
   "outputs": [
    {
     "data": {
      "text/plain": [
       "6"
      ]
     },
     "execution_count": 14,
     "metadata": {},
     "output_type": "execute_result"
    }
   ],
   "source": [
    "vertices[np.matmul(vertices, w) == 1/2,].shape[0]"
   ]
  },
  {
   "cell_type": "code",
   "execution_count": 19,
   "id": "68ce7de7",
   "metadata": {},
   "outputs": [
    {
     "data": {
      "text/plain": [
       "array([[0., 0., 0., ..., 0., 0., 0.],\n",
       "       [0., 0., 0., ..., 0., 0., 0.],\n",
       "       [0., 0., 0., ..., 0., 0., 0.],\n",
       "       ...,\n",
       "       [0., 0., 0., ..., 0., 0., 0.],\n",
       "       [0., 0., 0., ..., 0., 0., 0.],\n",
       "       [0., 0., 0., ..., 0., 0., 0.]])"
      ]
     },
     "execution_count": 19,
     "metadata": {},
     "output_type": "execute_result"
    }
   ],
   "source": [
    "np.zeros((np.sum(N), vertices.shape[0]))"
   ]
  },
  {
   "cell_type": "code",
   "execution_count": 17,
   "id": "4b4da022",
   "metadata": {},
   "outputs": [
    {
     "data": {
      "text/plain": [
       "array([500, 500, 500])"
      ]
     },
     "execution_count": 17,
     "metadata": {},
     "output_type": "execute_result"
    }
   ],
   "source": [
    "N"
   ]
  },
  {
   "cell_type": "code",
   "execution_count": null,
   "id": "e7e31609",
   "metadata": {},
   "outputs": [],
   "source": []
  }
 ],
 "metadata": {
  "kernelspec": {
   "display_name": "Python 3 (ipykernel)",
   "language": "python",
   "name": "python3"
  },
  "language_info": {
   "codemirror_mode": {
    "name": "ipython",
    "version": 3
   },
   "file_extension": ".py",
   "mimetype": "text/x-python",
   "name": "python",
   "nbconvert_exporter": "python",
   "pygments_lexer": "ipython3",
   "version": "3.9.12"
  }
 },
 "nbformat": 4,
 "nbformat_minor": 5
}
