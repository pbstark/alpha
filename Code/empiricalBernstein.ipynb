{
 "cells": [
  {
   "cell_type": "code",
   "execution_count": 1,
   "id": "caefe6db",
   "metadata": {},
   "outputs": [],
   "source": [
    "import math\n",
    "import scipy as sp\n",
    "import matplotlib.pyplot as plt\n",
    "from scipy.stats import bernoulli, uniform, chi2\n",
    "import numpy as np\n",
    "from scipy.stats.mstats import gmean\n",
    "from numpy.testing import assert_allclose\n",
    "from utils import sprt_mart, eb_selector, psi_E, v_i\n",
    "np.random.seed(123456789)"
   ]
  },
  {
   "cell_type": "code",
   "execution_count": 2,
   "id": "5bd3e1f5",
   "metadata": {},
   "outputs": [],
   "source": [
    "stratum_1 = np.random.normal(loc = 0.5, scale = 0.05, size = 200)\n",
    "stratum_2 = np.random.normal(loc = 0.6, scale = 0.05, size = 100)\n",
    "strata = [stratum_1, stratum_2]\n",
    "lam = np.array([0.5])"
   ]
  },
  {
   "cell_type": "code",
   "execution_count": 3,
   "id": "108a8268",
   "metadata": {},
   "outputs": [
    {
     "ename": "IndexError",
     "evalue": "index 100 is out of bounds for axis 0 with size 100",
     "output_type": "error",
     "traceback": [
      "\u001b[0;31m---------------------------------------------------------------------------\u001b[0m",
      "\u001b[0;31mIndexError\u001b[0m                                Traceback (most recent call last)",
      "Input \u001b[0;32mIn [3]\u001b[0m, in \u001b[0;36m<cell line: 12>\u001b[0;34m()\u001b[0m\n\u001b[1;32m     14\u001b[0m selected_strata[i] \u001b[38;5;241m=\u001b[39m next_stratum\n\u001b[1;32m     15\u001b[0m running_n[next_stratum] \u001b[38;5;241m+\u001b[39m\u001b[38;5;241m=\u001b[39m \u001b[38;5;241m1\u001b[39m\n\u001b[0;32m---> 16\u001b[0m running_a[next_stratum] \u001b[38;5;241m=\u001b[39m \u001b[43ma\u001b[49m\u001b[43m[\u001b[49m\u001b[43mnext_stratum\u001b[49m\u001b[43m]\u001b[49m\u001b[43m[\u001b[49m\u001b[38;5;28;43mint\u001b[39;49m\u001b[43m(\u001b[49m\u001b[43mrunning_n\u001b[49m\u001b[43m[\u001b[49m\u001b[43mnext_stratum\u001b[49m\u001b[43m]\u001b[49m\u001b[43m)\u001b[49m\u001b[43m]\u001b[49m\n",
      "\u001b[0;31mIndexError\u001b[0m: index 100 is out of bounds for axis 0 with size 100"
     ]
    }
   ],
   "source": [
    "N = np.array([len(x) for x in strata])\n",
    "K = len(strata)\n",
    "w = N/np.sum(N)\n",
    "gamma = 1\n",
    "marts = [np.ones(x) for x in N]\n",
    "a = [(gamma/(np.arange(N[k]) + 1)) * np.cumsum(lam*strata[k] - psi_E(lam)*v_i(strata[k])) + (1-gamma)*w[k] for k in np.arange(K)]\n",
    "running_n = np.zeros(K)\n",
    "running_a = np.ones(K)\n",
    "#record which strata are pulled from\n",
    "selected_strata = np.zeros(np.sum(N))\n",
    "mart = np.ones(np.sum(N))\n",
    "i = 0\n",
    "while any(running_n < N):\n",
    "    i += 1\n",
    "    next_stratum = eb_selector(running_a = running_a, running_n = running_n, lam = lam, N = N, gamma = gamma)\n",
    "    selected_strata[i] = next_stratum\n",
    "    running_n[next_stratum] += 1\n",
    "    running_a[next_stratum] = a[next_stratum][int(running_n[next_stratum])]"
   ]
  },
  {
   "cell_type": "code",
   "execution_count": 4,
   "id": "5e297fe9",
   "metadata": {},
   "outputs": [
    {
     "data": {
      "text/plain": [
       "298"
      ]
     },
     "execution_count": 4,
     "metadata": {},
     "output_type": "execute_result"
    }
   ],
   "source": []
  },
  {
   "cell_type": "code",
   "execution_count": 11,
   "id": "5b009b73",
   "metadata": {},
   "outputs": [
    {
     "data": {
      "text/plain": [
       "1.0"
      ]
     },
     "execution_count": 11,
     "metadata": {},
     "output_type": "execute_result"
    }
   ],
   "source": [
    "running_n[next_stratum]"
   ]
  },
  {
   "cell_type": "code",
   "execution_count": 15,
   "id": "0848af15",
   "metadata": {},
   "outputs": [
    {
     "data": {
      "text/plain": [
       "0.28018506861526915"
      ]
     },
     "execution_count": 15,
     "metadata": {},
     "output_type": "execute_result"
    }
   ],
   "source": [
    "a[next_stratum][int(running_n[next_stratum])]"
   ]
  },
  {
   "cell_type": "code",
   "execution_count": null,
   "id": "22d94f9f",
   "metadata": {},
   "outputs": [],
   "source": []
  }
 ],
 "metadata": {
  "kernelspec": {
   "display_name": "Python 3 (ipykernel)",
   "language": "python",
   "name": "python3"
  },
  "language_info": {
   "codemirror_mode": {
    "name": "ipython",
    "version": 3
   },
   "file_extension": ".py",
   "mimetype": "text/x-python",
   "name": "python",
   "nbconvert_exporter": "python",
   "pygments_lexer": "ipython3",
   "version": "3.8.9"
  }
 },
 "nbformat": 4,
 "nbformat_minor": 5
}
