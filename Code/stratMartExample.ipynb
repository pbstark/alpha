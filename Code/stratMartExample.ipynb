{
 "cells": [
  {
   "cell_type": "code",
   "execution_count": 1,
   "id": "c7c83862",
   "metadata": {},
   "outputs": [],
   "source": [
    "import math\n",
    "import scipy as sp\n",
    "import matplotlib.pyplot as plt\n",
    "from scipy.stats import bernoulli, uniform, chi2\n",
    "import numpy as np\n",
    "from scipy.stats.mstats import gmean\n",
    "from numpy.testing import assert_allclose\n",
    "from utils import sprt_mart, alpha_mart, shrink_trunc, stratum_selector, \\\n",
    "    multinomial_selector, get_global_pvalue, simulate_audits, round_robin, ucb_selector\n",
    "np.random.seed(123456789)"
   ]
  },
  {
   "cell_type": "code",
   "execution_count": 9,
   "id": "a7444bec",
   "metadata": {},
   "outputs": [],
   "source": [
    "theta = 1/2 \n",
    "hand_tally = np.concatenate((np.ones(50), np.zeros(50), np.ones(60), np.zeros(40)))\n",
    "reported_tally = np.concatenate((np.ones(50), np.zeros(50), np.ones(60), np.zeros(40)))\n",
    "omega = reported_tally - hand_tally\n",
    "stratum_indicator = np.concatenate((np.ones(100), 2*np.ones(100)))\n",
    "u_A = np.ones(2)\n",
    "\n",
    "A_c = [np.mean(reported_tally[stratum_indicator == 1]), np.mean(reported_tally[stratum_indicator == 1])]\n",
    "strata = [u_A[0] - omega[stratum_indicator == 1], u_A[1] - omega[stratum_indicator == 2]]"
   ]
  },
  {
   "cell_type": "code",
   "execution_count": 13,
   "id": "c4884728",
   "metadata": {},
   "outputs": [
    {
     "data": {
      "text/plain": [
       "(array([1., 1., 1., 1., 1., 1., 1., 1., 1., 1., 1., 1., 1., 1., 1., 1., 1.,\n",
       "        1., 1., 1., 1., 1., 1., 1., 1., 1., 1., 1., 1., 1., 1., 1., 1., 1.,\n",
       "        1., 1., 1., 1., 1., 1., 1., 1., 1., 1., 1., 1., 1., 1., 1., 1., 1.,\n",
       "        1., 1., 1., 1., 1., 1., 1., 1., 1., 1., 1., 1., 1., 1., 1., 1., 1.,\n",
       "        1., 1., 1., 1., 1., 1., 1., 1., 1., 1., 1., 1., 1., 1., 1., 1., 1.,\n",
       "        1., 1., 1., 1., 1., 1., 1., 1., 1., 1., 1., 1., 1., 1., 1., 1., 1.,\n",
       "        1., 1., 1., 1., 1., 1., 1., 1., 1., 1., 1., 1., 1., 1., 1., 1., 1.,\n",
       "        1., 1., 1., 1., 1., 1., 1., 1., 1., 1., 1., 1., 1., 1., 1., 1., 1.,\n",
       "        1., 1., 1., 1., 1., 1., 1., 1., 1., 1., 1., 1., 1., 1., 1., 1., 1.,\n",
       "        1., 1., 1., 1., 1., 1., 1., 1., 1., 1., 1., 1., 1., 1., 1., 1., 1.,\n",
       "        1., 1., 1., 1., 1., 1., 1., 1., 1., 1., 1., 1., 1., 1., 1., 1., 1.,\n",
       "        1., 1., 1., 1., 1., 1., 1., 1., 1., 1., 1., 1., 1.]),\n",
       " array([ 0.,  1.,  0.,  1.,  0.,  1.,  0.,  1.,  0.,  1.,  0.,  1.,  0.,\n",
       "         1.,  0.,  1.,  0.,  1.,  0.,  1.,  0.,  1.,  0.,  1.,  0.,  1.,\n",
       "         0.,  1.,  0.,  1.,  0.,  1.,  0.,  1.,  0.,  1.,  0.,  1.,  0.,\n",
       "         1.,  0.,  1.,  0.,  1.,  0.,  1.,  0.,  1.,  0.,  1.,  0.,  1.,\n",
       "         0.,  1.,  0.,  1.,  0.,  1.,  0.,  1.,  0.,  1.,  0.,  1.,  0.,\n",
       "         1.,  0.,  1.,  0.,  1.,  0.,  1.,  0.,  1.,  0.,  1.,  0.,  1.,\n",
       "         0.,  1.,  0.,  1.,  0.,  1.,  0.,  1.,  0.,  1.,  0.,  1.,  0.,\n",
       "         1.,  0.,  1.,  0.,  1.,  0.,  1.,  0.,  1.,  0.,  1.,  0., inf,\n",
       "         0., inf,  0., inf,  0., inf,  0., inf,  0., inf,  0., inf,  0.,\n",
       "        inf,  0., inf,  0., inf,  0., inf,  0., inf,  0., inf,  0., inf,\n",
       "         0., inf,  0., inf,  0., inf,  0., inf,  0., inf,  0., inf,  0.,\n",
       "        inf,  0., inf,  0., inf,  0., inf,  0., inf,  0., inf,  0., inf,\n",
       "         0., inf,  0., inf,  0., inf,  0., inf,  0., inf,  0., inf,  0.,\n",
       "        inf,  0., inf,  0., inf,  0., inf,  0., inf,  0., inf,  0., inf,\n",
       "         0., inf,  0., inf,  0., inf,  0., inf,  0., inf,  0., inf,  0.,\n",
       "        inf,  0., inf, inf]),\n",
       " array([0.005, 0.99 , 0.5  , 0.71 , 0.5  , 0.65 , 0.5  , 0.615, 0.5  ,\n",
       "        0.595, 0.5  , 0.58 , 0.5  , 0.57 , 0.5  , 0.56 , 0.5  , 0.555,\n",
       "        0.5  , 0.55 , 0.5  , 0.545, 0.5  , 0.54 , 0.5  , 0.54 , 0.5  ,\n",
       "        0.535, 0.5  , 0.535, 0.5  , 0.53 , 0.5  , 0.53 , 0.5  , 0.53 ,\n",
       "        0.5  , 0.525, 0.5  , 0.525, 0.5  , 0.525, 0.5  , 0.525, 0.5  ,\n",
       "        0.52 , 0.5  , 0.52 , 0.5  , 0.52 , 0.5  , 0.52 , 0.5  , 0.52 ,\n",
       "        0.5  , 0.52 , 0.5  , 0.515, 0.5  , 0.515, 0.5  , 0.515, 0.5  ,\n",
       "        0.515, 0.5  , 0.515, 0.5  , 0.515, 0.5  , 0.515, 0.5  , 0.515,\n",
       "        0.5  , 0.515, 0.5  , 0.515, 0.5  , 0.515, 0.5  , 0.515, 0.5  ,\n",
       "        0.51 , 0.5  , 0.51 , 0.5  , 0.51 , 0.5  , 0.51 , 0.5  , 0.51 ,\n",
       "        0.5  , 0.51 , 0.5  , 0.51 , 0.5  , 0.51 , 0.5  , 0.51 , 0.5  ,\n",
       "        0.51 , 0.5  , 0.51 , 0.5  , 0.985, 0.5  , 0.975, 0.5  , 0.965,\n",
       "        0.5  , 0.95 , 0.5  , 0.945, 0.5  , 0.93 , 0.5  , 0.925, 0.5  ,\n",
       "        0.915, 0.5  , 0.905, 0.5  , 0.895, 0.5  , 0.885, 0.5  , 0.875,\n",
       "        0.5  , 0.865, 0.5  , 0.855, 0.5  , 0.845, 0.5  , 0.835, 0.5  ,\n",
       "        0.825, 0.5  , 0.815, 0.5  , 0.805, 0.5  , 0.795, 0.5  , 0.785,\n",
       "        0.5  , 0.775, 0.5  , 0.765, 0.5  , 0.755, 0.5  , 0.745, 0.5  ,\n",
       "        0.735, 0.5  , 0.725, 0.5  , 0.715, 0.5  , 0.7  , 0.5  , 0.695,\n",
       "        0.5  , 0.68 , 0.5  , 0.675, 0.5  , 0.66 , 0.5  , 0.655, 0.5  ,\n",
       "        0.64 , 0.5  , 0.635, 0.5  , 0.62 , 0.5  , 0.615, 0.5  , 0.6  ,\n",
       "        0.5  , 0.595, 0.5  , 0.585, 0.5  , 0.575, 0.5  , 0.565, 0.5  ,\n",
       "        0.555, 0.5  , 0.545, 0.5  , 0.535, 0.5  , 0.525, 0.5  , 0.515,\n",
       "        0.505, 0.505]))"
      ]
     },
     "execution_count": 13,
     "metadata": {},
     "output_type": "execute_result"
    }
   ],
   "source": [
    "rule = round_robin\n",
    "shuffled_1 = np.random.permutation(strata[0])\n",
    "shuffled_2 = np.random.permutation(strata[1])\n",
    "N = np.concatenate((np.array([len(shuffled_1)]), np.array([len(shuffled_2)])))\n",
    "w = N/sum(N)\n",
    "epsilon = 1 / (2*np.max(N))\n",
    "raw_theta_1_grid = np.arange(epsilon, u_A[0] - epsilon, epsilon) #sequence from epsilon to u[0] - epsilon\n",
    "raw_theta_2_grid = (1/2 - w[0] * raw_theta_1_grid) / w[1]\n",
    "theta_1_grid = raw_theta_1_grid + u_A[0] - A_c[0]\n",
    "theta_2_grid = raw_theta_2_grid + u_A[1] - A_c[1]\n",
    "\n",
    "strata_matrix = np.zeros((len(shuffled_1) + len(shuffled_2) - 1, len(theta_1_grid)))\n",
    "intersection_marts = np.zeros((len(shuffled_1) + len(shuffled_2), len(theta_1_grid)))\n",
    "for i in range(len(theta_1_grid)):\n",
    "    mart_1, mu_1 = alpha_mart(x = shuffled_1, N = N[0], mu = theta_1_grid[i], eta = u_A[0], f = .01, u = 2*u_A[0])\n",
    "    mart_2, mu_2 = alpha_mart(x = shuffled_2, N = N[1], mu = theta_2_grid[i], eta = u_A[1], f = .01, u = 2*u_A[1])\n",
    "    if rule == ucb_selector:\n",
    "        lsm_marts_1 = alpha_mart(x = shuffled_1, N = N[0], mu = theta_1_grid[i], eta = theta_1_grid[i]/2, f = .01, u = 2*u_A[0], alternative = \"lower\")[0]\n",
    "        lsm_marts_2 = alpha_mart(x = shuffled_2, N = N[1], mu = theta_2_grid[i], eta = theta_2_grid[i]/2, f = .01, u = 2*u_A[1], alternative = \"lower\")[0]\n",
    "        lsm_marts = [lsm_marts_1, lsm_marts_2]\n",
    "    else:\n",
    "        lsm_marts = None\n",
    "    strata_matrix[:,i], intersection_marts[:,i] = stratum_selector(\n",
    "        marts = [mart_1, mart_2],\n",
    "        mu = [mu_1, mu_2],\n",
    "        u = 2*u_A,\n",
    "        lower_sided_marts = lsm_marts,\n",
    "        rule = rule)\n",
    "null_index = np.argmin(intersection_marts, axis = 1)\n",
    "#stratum_selections = strata_matrix[1:sum(N), null_index]\n",
    "#minimized_martingale = intersection_marts[1:sum(N), null_index]\n",
    "minimized_martingale = np.ones(sum(N))\n",
    "stratum_selections = np.ones(sum(N) - 1) * np.inf\n",
    "for i in np.arange(sum(N) - 1):\n",
    "    minimized_martingale[i] = intersection_marts[i,null_index[i]]\n",
    "    stratum_selections[i] = strata_matrix[i,null_index[i]]\n",
    "p_values = 1 / np.maximum(1, minimized_martingale)\n",
    "null_selections = raw_theta_1_grid[null_index]\n",
    "p_values, stratum_selections, null_selections"
   ]
  },
  {
   "cell_type": "code",
   "execution_count": 27,
   "id": "b298836a",
   "metadata": {},
   "outputs": [
    {
     "data": {
      "text/plain": [
       "array([0.505, 0.51 , 0.515, 0.52 , 0.525, 0.53 , 0.535, 0.54 , 0.545,\n",
       "       0.55 , 0.555, 0.56 , 0.565, 0.57 , 0.575, 0.58 , 0.585, 0.59 ,\n",
       "       0.595, 0.6  , 0.605, 0.61 , 0.615, 0.62 , 0.625, 0.63 , 0.635,\n",
       "       0.64 , 0.645, 0.65 , 0.655, 0.66 , 0.665, 0.67 , 0.675, 0.68 ,\n",
       "       0.685, 0.69 , 0.695, 0.7  , 0.705, 0.71 , 0.715, 0.72 , 0.725,\n",
       "       0.73 , 0.735, 0.74 , 0.745, 0.75 , 0.755, 0.76 , 0.765, 0.77 ,\n",
       "       0.775, 0.78 , 0.785, 0.79 , 0.795, 0.8  , 0.805, 0.81 , 0.815,\n",
       "       0.82 , 0.825, 0.83 , 0.835, 0.84 , 0.845, 0.85 , 0.855, 0.86 ,\n",
       "       0.865, 0.87 , 0.875, 0.88 , 0.885, 0.89 , 0.895, 0.9  , 0.905,\n",
       "       0.91 , 0.915, 0.92 , 0.925, 0.93 , 0.935, 0.94 , 0.945, 0.95 ,\n",
       "       0.955, 0.96 , 0.965, 0.97 , 0.975, 0.98 , 0.985, 0.99 , 0.995,\n",
       "       1.   , 1.005, 1.01 , 1.015, 1.02 , 1.025, 1.03 , 1.035, 1.04 ,\n",
       "       1.045, 1.05 , 1.055, 1.06 , 1.065, 1.07 , 1.075, 1.08 , 1.085,\n",
       "       1.09 , 1.095, 1.1  , 1.105, 1.11 , 1.115, 1.12 , 1.125, 1.13 ,\n",
       "       1.135, 1.14 , 1.145, 1.15 , 1.155, 1.16 , 1.165, 1.17 , 1.175,\n",
       "       1.18 , 1.185, 1.19 , 1.195, 1.2  , 1.205, 1.21 , 1.215, 1.22 ,\n",
       "       1.225, 1.23 , 1.235, 1.24 , 1.245, 1.25 , 1.255, 1.26 , 1.265,\n",
       "       1.27 , 1.275, 1.28 , 1.285, 1.29 , 1.295, 1.3  , 1.305, 1.31 ,\n",
       "       1.315, 1.32 , 1.325, 1.33 , 1.335, 1.34 , 1.345, 1.35 , 1.355,\n",
       "       1.36 , 1.365, 1.37 , 1.375, 1.38 , 1.385, 1.39 , 1.395, 1.4  ,\n",
       "       1.405, 1.41 , 1.415, 1.42 , 1.425, 1.43 , 1.435, 1.44 , 1.445,\n",
       "       1.45 , 1.455, 1.46 , 1.465, 1.47 , 1.475, 1.48 , 1.485, 1.49 ])"
      ]
     },
     "execution_count": 27,
     "metadata": {},
     "output_type": "execute_result"
    }
   ],
   "source": [
    "theta_1_grid"
   ]
  },
  {
   "cell_type": "code",
   "execution_count": 22,
   "id": "21452e21",
   "metadata": {},
   "outputs": [
    {
     "data": {
      "text/plain": [
       "array([1., 1., 1., 1., 1., 1., 1., 1., 1., 1., 1., 1., 1., 1., 1., 1., 1.,\n",
       "       1., 1., 1., 1., 1., 1., 1., 1., 1., 1., 1., 1., 1., 1., 1., 1., 1.,\n",
       "       1., 1., 1., 1., 1., 1., 1., 1., 1., 1., 1., 1., 1., 1., 1., 1., 1.,\n",
       "       1., 1., 1., 1., 1., 1., 1., 1., 1., 1., 1., 1., 1., 1., 1., 1., 1.,\n",
       "       1., 1., 1., 1., 1., 1., 1., 1., 1., 1., 1., 1., 1., 1., 1., 1., 1.,\n",
       "       1., 1., 1., 1., 1., 1., 1., 1., 1., 1., 1., 1., 1., 1., 1.])"
      ]
     },
     "execution_count": 22,
     "metadata": {},
     "output_type": "execute_result"
    }
   ],
   "source": [
    "shuffled_2"
   ]
  },
  {
   "cell_type": "code",
   "execution_count": 10,
   "id": "a5a873cd",
   "metadata": {},
   "outputs": [
    {
     "data": {
      "text/plain": [
       "(array([1., 1., 1., 1., 1., 1., 1., 1., 1., 1., 1., 1., 1., 1., 1., 1., 1.,\n",
       "        1., 1., 1., 1., 1., 1., 1., 1., 1., 1., 1., 1., 1., 1., 1., 1., 1.,\n",
       "        1., 1., 1., 1., 1., 1., 1., 1., 1., 1., 1., 1., 1., 1., 1., 1., 1.,\n",
       "        1., 1., 1., 1., 1., 1., 1., 1., 1., 1., 1., 1., 1., 1., 1., 1., 1.,\n",
       "        1., 1., 1., 1., 1., 1., 1., 1., 1., 1., 1., 1., 1., 1., 1., 1., 1.,\n",
       "        1., 1., 1., 1., 1., 1., 1., 1., 1., 1., 1., 1., 1., 1., 1., 1., 1.,\n",
       "        1., 1., 1., 1., 1., 1., 1., 1., 1., 1., 1., 1., 1., 1., 1., 1., 1.,\n",
       "        1., 1., 1., 1., 1., 1., 1., 1., 1., 1., 1., 1., 1., 1., 1., 1., 1.,\n",
       "        1., 1., 1., 1., 1., 1., 1., 1., 1., 1., 1., 1., 1., 1., 1., 1., 1.,\n",
       "        1., 1., 1., 1., 1., 1., 1., 1., 1., 1., 1., 1., 1., 1., 1., 1., 1.,\n",
       "        1., 1., 1., 1., 1., 1., 1., 1., 1., 1., 1., 1., 1., 1., 1., 1., 1.,\n",
       "        1., 1., 1., 1., 1., 1., 1., 1., 1., 1., 1., 1., 1.]),\n",
       " array([ 1.,  0.,  1.,  1.,  0.,  0.,  0.,  0.,  0.,  0.,  0.,  1.,  1.,\n",
       "         0.,  1.,  0.,  0.,  0.,  1.,  0.,  1.,  0.,  0.,  0.,  0.,  0.,\n",
       "         0.,  0.,  1.,  0.,  0.,  1.,  1.,  0.,  1.,  0.,  1.,  0.,  1.,\n",
       "         1.,  0.,  0.,  0.,  0.,  1.,  0.,  0.,  0.,  0.,  0.,  0.,  0.,\n",
       "         1.,  0.,  0.,  1.,  1.,  0.,  0.,  1.,  0.,  0.,  0.,  0.,  1.,\n",
       "         1.,  1.,  0.,  0.,  1.,  1.,  1.,  0.,  1.,  0.,  0.,  1.,  1.,\n",
       "         1.,  1.,  0.,  1.,  0.,  1.,  1.,  0.,  0.,  0.,  0.,  1.,  1.,\n",
       "         0.,  1.,  0.,  1.,  1.,  1.,  0.,  1.,  0.,  0.,  0.,  1.,  0.,\n",
       "         0.,  1.,  0.,  0.,  0.,  1.,  1.,  1.,  1.,  0.,  0.,  0.,  0.,\n",
       "         1.,  0.,  1.,  0.,  1.,  0.,  1.,  1.,  1.,  1.,  1.,  0.,  0.,\n",
       "         0.,  0.,  1.,  1.,  0.,  0.,  1.,  1.,  1.,  1.,  0.,  0.,  0.,\n",
       "         0.,  0.,  1.,  1.,  1.,  1.,  1.,  1.,  0.,  1.,  0.,  0.,  1.,\n",
       "         1.,  0.,  1.,  1.,  0.,  1.,  1.,  0.,  0.,  1.,  0.,  0.,  1.,\n",
       "         1.,  0.,  0.,  1.,  1.,  1.,  0.,  0.,  0.,  0.,  0.,  0.,  0.,\n",
       "         0.,  1.,  0.,  0.,  1.,  0.,  1.,  1.,  1.,  1.,  1.,  1.,  1.,\n",
       "         1.,  1., inf, inf]),\n",
       " array([0.005, 0.005, 0.98 , 0.94 , 0.17 , 0.075, 0.12 , 0.12 , 0.35 ,\n",
       "        0.35 , 0.43 , 0.565, 0.565, 0.35 , 0.35 , 0.35 , 0.35 , 0.48 ,\n",
       "        0.485, 0.485, 0.485, 0.485, 0.485, 0.485, 0.485, 0.48 , 0.485,\n",
       "        0.485, 0.485, 0.485, 0.485, 0.515, 0.48 , 0.48 , 0.515, 0.515,\n",
       "        0.515, 0.48 , 0.48 , 0.48 , 0.48 , 0.48 , 0.48 , 0.495, 0.495,\n",
       "        0.495, 0.495, 0.495, 0.5  , 0.5  , 0.5  , 0.5  , 0.5  , 0.5  ,\n",
       "        0.5  , 0.495, 0.495, 0.495, 0.495, 0.495, 0.495, 0.495, 0.5  ,\n",
       "        0.495, 0.5  , 0.5  , 0.5  , 0.5  , 0.5  , 0.5  , 0.5  , 0.5  ,\n",
       "        0.5  , 0.5  , 0.5  , 0.5  , 0.5  , 0.5  , 0.5  , 0.5  , 0.5  ,\n",
       "        0.5  , 0.5  , 0.5  , 0.5  , 0.5  , 0.5  , 0.5  , 0.5  , 0.5  ,\n",
       "        0.5  , 0.5  , 0.5  , 0.5  , 0.5  , 0.5  , 0.5  , 0.5  , 0.5  ,\n",
       "        0.5  , 0.5  , 0.5  , 0.5  , 0.5  , 0.5  , 0.5  , 0.5  , 0.5  ,\n",
       "        0.5  , 0.5  , 0.5  , 0.5  , 0.5  , 0.5  , 0.5  , 0.5  , 0.5  ,\n",
       "        0.5  , 0.5  , 0.5  , 0.5  , 0.5  , 0.5  , 0.5  , 0.5  , 0.5  ,\n",
       "        0.5  , 0.5  , 0.5  , 0.5  , 0.5  , 0.5  , 0.5  , 0.5  , 0.5  ,\n",
       "        0.5  , 0.5  , 0.5  , 0.5  , 0.5  , 0.5  , 0.5  , 0.5  , 0.5  ,\n",
       "        0.5  , 0.5  , 0.5  , 0.5  , 0.5  , 0.5  , 0.5  , 0.5  , 0.5  ,\n",
       "        0.5  , 0.5  , 0.5  , 0.5  , 0.5  , 0.5  , 0.5  , 0.5  , 0.5  ,\n",
       "        0.5  , 0.5  , 0.5  , 0.5  , 0.5  , 0.5  , 0.5  , 0.5  , 0.5  ,\n",
       "        0.5  , 0.5  , 0.5  , 0.5  , 0.5  , 0.5  , 0.5  , 0.5  , 0.5  ,\n",
       "        0.5  , 0.5  , 0.5  , 0.5  , 0.5  , 0.5  , 0.5  , 0.5  , 0.5  ,\n",
       "        0.5  , 0.5  , 0.5  , 0.5  , 0.5  , 0.5  , 0.5  , 0.5  , 0.5  ,\n",
       "        0.5  , 0.5  ]))"
      ]
     },
     "execution_count": 10,
     "metadata": {},
     "output_type": "execute_result"
    }
   ],
   "source": [
    "p_value, stratum_selections, null_selections = get_global_pvalue(\n",
    "    strata = strata, \n",
    "    u_A = u_A, \n",
    "    A_c = A_c, \n",
    "    rule = multinomial_selector)\n",
    "p_value, stratum_selections, null_selections"
   ]
  },
  {
   "cell_type": "code",
   "execution_count": 4,
   "id": "fba7fdb9",
   "metadata": {},
   "outputs": [],
   "source": [
    "stopping_times_roundrobin = simulate_audits(\n",
    "    strata = strata, \n",
    "    u_A = u_A, \n",
    "    A_c = A_c, \n",
    "    rule = round_robin, \n",
    "    n_sims = 30, \n",
    "    alpha = .05)\n",
    "stopping_times_multinomial = simulate_audits(\n",
    "    strata = strata, \n",
    "    u_A = u_A, \n",
    "    A_c = A_c, \n",
    "    rule = multinomial_selector, \n",
    "    n_sims = 30, \n",
    "    alpha = .05)"
   ]
  },
  {
   "cell_type": "code",
   "execution_count": 5,
   "id": "675ff33e",
   "metadata": {},
   "outputs": [
    {
     "name": "stderr",
     "output_type": "stream",
     "text": [
      "/Users/Jake/Library/Python/3.8/lib/python/site-packages/numpy/lib/function_base.py:4486: RuntimeWarning: invalid value encountered in subtract\n",
      "  diff_b_a = subtract(b, a)\n"
     ]
    },
    {
     "data": {
      "text/plain": [
       "[inf, inf, nan, nan]"
      ]
     },
     "execution_count": 5,
     "metadata": {},
     "output_type": "execute_result"
    }
   ],
   "source": [
    "#something seems wrong here...\n",
    "[np.mean(stopping_times_roundrobin), \n",
    " np.mean(stopping_times_multinomial), \n",
    " np.quantile(stopping_times_roundrobin, q = 0.9),\n",
    " np.quantile(stopping_times_multinomial, q = 0.9)]\n",
    "\n",
    "\n"
   ]
  },
  {
   "cell_type": "code",
   "execution_count": 5,
   "id": "fad71a35",
   "metadata": {},
   "outputs": [
    {
     "data": {
      "text/plain": [
       "[<matplotlib.lines.Line2D at 0x28885f6d0>]"
      ]
     },
     "execution_count": 5,
     "metadata": {},
     "output_type": "execute_result"
    },
    {
     "data": {
      "image/png": "[encoded data removed]",
      "text/plain": [
       "<Figure size 432x288 with 1 Axes>"
      ]
     },
     "metadata": {
      "needs_background": "light"
     },
     "output_type": "display_data"
    }
   ],
   "source": [
    "# topography of the P-value of the intersection null at a few sample sizes\n",
    "rule = ucb_selector\n",
    "#rule = multinomial_selector\n",
    "#rule = round_robin\n",
    "\n",
    "shuffled_1 = np.random.permutation(strata[0])\n",
    "shuffled_2 = np.random.permutation(strata[1])\n",
    "N = np.concatenate((np.array([len(shuffled_1)]), np.array([len(shuffled_2)])))\n",
    "w = N/sum(N)\n",
    "epsilon = 1 / (2*np.max(N))\n",
    "raw_theta_1_grid = np.arange(epsilon, u_A[0] - epsilon, epsilon) #sequence from epsilon to u[0] - epsilon\n",
    "raw_theta_2_grid = (1/2 - w[0] * raw_theta_1_grid) / w[1]\n",
    "theta_1_grid = raw_theta_1_grid + u_A[0] - A_c[0]\n",
    "theta_2_grid = raw_theta_2_grid + u_A[1] - A_c[1]\n",
    "\n",
    "strata_matrix = np.zeros((len(shuffled_1) + len(shuffled_2) - 1, len(theta_1_grid)))\n",
    "intersection_marts = np.zeros((len(shuffled_1) + len(shuffled_2), len(theta_1_grid)))\n",
    "for i in range(len(theta_1_grid)):\n",
    "    mart_1, mu_1 = alpha_mart(x = shuffled_1, N = N[0], mu = theta_1_grid[i], eta = u_A[0], f = .01, u = 2*u_A[0])\n",
    "    mart_2, mu_2 = alpha_mart(x = shuffled_2, N = N[1], mu = theta_2_grid[i], eta = u_A[1], f = .01, u = 2*u_A[1])\n",
    "    if rule == ucb_selector:\n",
    "        lsm_marts_1 = alpha_mart(x = shuffled_1, N = N[0], mu = theta_1_grid[i], eta = theta_1_grid[i]/2, f = .01, u = 2*u_A[0], alternative = \"lower\")[0]\n",
    "        lsm_marts_2 = alpha_mart(x = shuffled_2, N = N[1], mu = theta_2_grid[i], eta = theta_2_grid[i]/2, f = .01, u = 2*u_A[1], alternative = \"lower\")[0]\n",
    "        lsm_marts = [lsm_marts_1, lsm_marts_2]\n",
    "    else:\n",
    "        lsm_marts = None\n",
    "    strata_matrix[:,i], intersection_marts[:,i] = stratum_selector(\n",
    "        marts = [mart_1, mart_2],\n",
    "        mu = [mu_1, mu_2],\n",
    "        u = 2*u_A,\n",
    "        lower_sided_marts = lsm_marts,\n",
    "        rule = rule)\n",
    "null_index = np.argmin(intersection_marts, axis = 1)\n",
    "#stratum_selections = strata_matrix[1:sum(N), null_index]\n",
    "#minimized_martingale = intersection_marts[1:sum(N), null_index]\n",
    "minimized_martingale = np.ones(sum(N))\n",
    "stratum_selections = np.ones(sum(N) - 1) * np.inf\n",
    "for i in np.arange(sum(N) - 1):\n",
    "    minimized_martingale[i] = intersection_marts[i,null_index[i]]\n",
    "    stratum_selections[i] = strata_matrix[i,null_index[i]]\n",
    "maximized_p_values = 1 / np.maximum(1, minimized_martingale)\n",
    "plt.plot(intersection_marts[10,50:150])"
   ]
  },
  {
   "cell_type": "code",
   "execution_count": 6,
   "id": "744d3979",
   "metadata": {},
   "outputs": [
    {
     "data": {
      "text/plain": [
       "[<matplotlib.lines.Line2D at 0x288942220>]"
      ]
     },
     "execution_count": 6,
     "metadata": {},
     "output_type": "execute_result"
    },
    {
     "data": {
      "image/png": "[encoded data removed]",
      "text/plain": [
       "<Figure size 432x288 with 1 Axes>"
      ]
     },
     "metadata": {
      "needs_background": "light"
     },
     "output_type": "display_data"
    }
   ],
   "source": [
    "#the below plots are smooth if the rule is round robin, and not at all smooth if it is the intersection martingale\n",
    "#it might have to do with the fact that different samples are used for every value of theta_1_grid...\n",
    "#this doesn't happen in the R code: the contours of the intersection martingale are smooth,\n",
    "#but in that implementation there is no auxiliary randomness\n",
    "thresholded_marts = intersection_marts\n",
    "thresholded_marts[intersection_marts < 1] = 1\n",
    "all_p_values = 1/thresholded_marts\n",
    "plt.plot(theta_1_grid, all_p_values[1,:], color = 'red')\n",
    "plt.plot(theta_1_grid, all_p_values[5,:], color = 'orange')\n",
    "plt.plot(theta_1_grid, all_p_values[30,:], color = 'green')\n",
    "plt.plot(theta_1_grid, all_p_values[100,:], color = 'blue')"
   ]
  }
 ],
 "metadata": {
  "kernelspec": {
   "display_name": "Python 3 (ipykernel)",
   "language": "python",
   "name": "python3"
  },
  "language_info": {
   "codemirror_mode": {
    "name": "ipython",
    "version": 3
   },
   "file_extension": ".py",
   "mimetype": "text/x-python",
   "name": "python",
   "nbconvert_exporter": "python",
   "pygments_lexer": "ipython3",
   "version": "3.8.9"
  }
 },
 "nbformat": 4,
 "nbformat_minor": 5
}
