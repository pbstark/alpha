{
 "cells": [
  {
   "cell_type": "code",
   "execution_count": 1,
   "id": "c7c83862",
   "metadata": {},
   "outputs": [],
   "source": [
    "import math\n",
    "import pypoman\n",
    "import scipy as sp\n",
    "import pandas as pd\n",
    "import matplotlib.pyplot as plt\n",
    "import itertools\n",
    "from scipy.stats import bernoulli, uniform, chi2\n",
    "import numpy as np\n",
    "from scipy.stats.mstats import gmean\n",
    "from numpy.testing import assert_allclose\n",
    "from iteround import saferound\n",
    "from utils import Bets, Allocations, Weights, mart, lower_confidence_bound, wright_lower_bound,\\\n",
    "    intersection_mart, plot_marts_eta, construct_eta_grid, union_intersection_mart, selector\n",
    "np.random.seed(123456789)"
   ]
  },
  {
   "cell_type": "markdown",
   "id": "c035c00e",
   "metadata": {},
   "source": [
    "## Wright's method vs UI-NNSM for non-random populations\n",
    "\n",
    "In the cell below, we construct a range of $K=2$ strata populations. Each stratum is just a point-mass, so the samples are not in fact random. We alter the global alternative (`alt_grid`), the spread between the stratum values (`delta_grid`), the sample size from each stratum (`n_grid`), and the type of bet ($\\lambda_i$) used (`bets_dict`). We see whether a test based on wright's method, a UI-NNSM using product combining, or a UI-NNSM using Fisher combining rejects the global null of $\\eta_0 = 0.5$ at level $\\alpha = 0.05$. The tests reject after all $n_0 + n_1$ samples are consumed (we do not take running maxes over $t$ or deal with stratum allocation $T_k(t)$). There is no need to replicate the experiments because there is no randomness involved anywhere.  "
   ]
  },
  {
   "cell_type": "code",
   "execution_count": null,
   "id": "b1fed1d4",
   "metadata": {},
   "outputs": [],
   "source": [
    "alt_grid = [0.55, 0.6, 0.7]\n",
    "delta_grid = [0, 0.1, 0.5]\n",
    "alpha = 0.05\n",
    "eta_0 = 0.5\n",
    "bets_grid = [\"fixed\", \"agrapa\", \"smooth_predictable\"]\n",
    "bets_dict = {\"fixed\":Bets.fixed, \"agrapa\":Bets.agrapa, \"smooth_predictable\":Bets.smooth_predictable}\n",
    "K = 2\n",
    "N = [30, 30]\n",
    "results = []\n",
    "#TODO: add UI-NNSMs with different combining functions \n",
    "for alt, delta, bet in itertools.product(alt_grid, delta_grid, bets_grid):\n",
    "    means = [alt - 0.5*delta, alt + 0.5*delta]\n",
    "    calX = [[0, means[0]],[0, means[1]]]\n",
    "    samples = [np.ones(N[0]) * means[0], np.ones(N[1]) * means[1]]\n",
    "    eta_grid, calC, ub_calC = construct_eta_grid(eta_0, calX, N) \n",
    "    wlb = wright_lower_bound(\n",
    "        x = samples, \n",
    "        N = N, \n",
    "        lam_func = bets_dict[bet], \n",
    "        allocation_func = Allocations.round_robin,\n",
    "        alpha = alpha, \n",
    "        breaks = 1000)\n",
    "    uinnsm_product = union_intersection_mart(\n",
    "        x = samples, \n",
    "        N = N,\n",
    "        etas = eta_grid, \n",
    "        lam_func = bets_dict[bet], \n",
    "        allocation_func = Allocations.round_robin,\n",
    "        combine = \"product\", \n",
    "        log = False)[0]\n",
    "    uinnsm_fisher = union_intersection_mart(\n",
    "        x = samples, \n",
    "        N = N,\n",
    "        etas = eta_grid, \n",
    "        lam_func = bets_dict[bet], \n",
    "        allocation_func = Allocations.round_robin,\n",
    "        combine = \"fisher\", \n",
    "        log = False)[0]\n",
    "    wlb_stop = np.where(any(wlb > eta_0), np.argmax(wlb > eta_0), np.sum(N))\n",
    "    uinnsm_product_stop = np.where(any(uinnsm_product > 1/alpha), np.argmax(uinnsm_product > 1/alpha), np.sum(N))\n",
    "    uinnsm_fisher_stop = np.where(any(uinnsm_fisher < alpha), np.argmax(uinnsm_fisher < alpha), np.sum(N))\n",
    "    data_dict = {\n",
    "        \"alt\":alt, \n",
    "        \"delta\":delta, \n",
    "        \"bet\":str(bet), \n",
    "        \"wright\" : wlb_stop, \n",
    "        \"uinnsm_product\" : uinnsm_product_stop,\n",
    "        \"uinnsm_fisher\" : uinnsm_fisher_stop}\n",
    "    results.append(data_dict)\n",
    "results = pd.DataFrame(results)"
   ]
  },
  {
   "cell_type": "code",
   "execution_count": null,
   "id": "2756b8e3",
   "metadata": {},
   "outputs": [],
   "source": [
    "#all results\n",
    "print(results.to_string())"
   ]
  },
  {
   "cell_type": "code",
   "execution_count": null,
   "id": "f33f44ca",
   "metadata": {},
   "outputs": [],
   "source": [
    "N = [50, 50]\n",
    "x = [0.5 * np.ones(50), 0.6 * np.ones(50)]\n",
    "plot_marts_eta(x = x,\n",
    "               N = N, \n",
    "               lam_func = Bets.smooth_predictable, \n",
    "               allocation_func = Allocations.proportional_round_robin,\n",
    "               combine = \"product\",\n",
    "               res = 2e-2)"
   ]
  },
  {
   "cell_type": "code",
   "execution_count": 21,
   "id": "04606f6a",
   "metadata": {},
   "outputs": [
    {
     "data": {
      "image/png": "[encoded data removed]",
      "text/plain": [
       "<Figure size 432x288 with 1 Axes>"
      ]
     },
     "metadata": {
      "needs_background": "light"
     },
     "output_type": "display_data"
    }
   ],
   "source": [
    "#fisher combining isn't even unimodal... i.e. it seems like it will be difficult to scale\n",
    "plot_marts_eta(\n",
    "    x = samples, \n",
    "    N = N, \n",
    "    lam_func = Bets.lam_fixed, \n",
    "    combine = \"fisher\", \n",
    "    theta_func = Weights.theta_fixed, \n",
    "    log = False)"
   ]
  },
  {
   "cell_type": "code",
   "execution_count": null,
   "id": "b8c04da2",
   "metadata": {},
   "outputs": [],
   "source": []
  }
 ],
 "metadata": {
  "kernelspec": {
   "display_name": "Python 3 (ipykernel)",
   "language": "python",
   "name": "python3"
  },
  "language_info": {
   "codemirror_mode": {
    "name": "ipython",
    "version": 3
   },
   "file_extension": ".py",
   "mimetype": "text/x-python",
   "name": "python",
   "nbconvert_exporter": "python",
   "pygments_lexer": "ipython3",
   "version": "3.9.12"
  }
 },
 "nbformat": 4,
 "nbformat_minor": 5
}
